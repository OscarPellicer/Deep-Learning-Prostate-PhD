{
 "cells": [
  {
   "cell_type": "markdown",
   "id": "a123fc66-6c5c-4fb3-a8bc-1ca0befc2a26",
   "metadata": {},
   "source": [
    "# Preprocess MR & US data"
   ]
  },
  {
   "cell_type": "markdown",
   "id": "d54fa6a4-e101-46d2-b930-05f352e753cf",
   "metadata": {},
   "source": [
    " 1. Read all MR-US image pairs\n",
    " 1. Register MR rigidly (only translation) to US using the segmentation masks\n",
    " 1. Preprocess them: intentisty normalization, same size, etc.\n",
    " 1. Save them as: `ID_MR_img.nrrd`, `ID_MR_msk.nrrd`, `ID_US_img.nrrd`, `ID_US_msk.nrrd`, where ID is the ID of the patient   "
   ]
  },
  {
   "cell_type": "markdown",
   "id": "b89fa59b",
   "metadata": {},
   "source": [
    "### Load required libraries"
   ]
  },
  {
   "cell_type": "code",
   "execution_count": 1,
   "id": "f8507106-f93c-4a0f-997a-eea2ea4732d9",
   "metadata": {},
   "outputs": [
    {
     "data": {
      "text/html": [
       "<style>.widget-hslider { width: auto !important } </style>"
      ],
      "text/plain": [
       "<IPython.core.display.HTML object>"
      ]
     },
     "metadata": {},
     "output_type": "display_data"
    }
   ],
   "source": [
    "%load_ext autoreload\n",
    "%autoreload 2\n",
    "\n",
    "#Main imports\n",
    "import os, glob, sys, pickle, numpy as np, pandas as pd,\\\n",
    "       matplotlib.pyplot as plt, SimpleITK as sitk\n",
    "\n",
    "#Preprocessing functions\n",
    "from lib.processing.preprocessing import (rescale_intensity, make_dirs, resample_image, \n",
    "                                          get_minimum_slices_transform, detect_border)\n",
    "\n",
    "#Plot lib\n",
    "from pathlib import Path\n",
    "sys.path.append(os.path.join(Path.home(), 'plot_lib'))\n",
    "from plot_lib import plot"
   ]
  },
  {
   "cell_type": "markdown",
   "id": "b541ec1d",
   "metadata": {},
   "source": [
    "### Set up some configuration"
   ]
  },
  {
   "cell_type": "code",
   "execution_count": 2,
   "id": "8f3c04b1",
   "metadata": {},
   "outputs": [],
   "source": [
    "#Global configuration\n",
    "PLOT= True #Plot all images\n",
    "SIZE= [160]*3 #Output size\n",
    "SPACING= [0.5]*3 #Output spacing\n",
    "CLEAN=True #Apply morphological operators to clean the final mask\n",
    "CONTINUE_IF_EXISTS= False #Skip any pids for which the processed images already exist  \n",
    "\n",
    "#Main paths\n",
    "PATH_IN=  'registration_data/images'\n",
    "PATH_OUT= 'registration_data/preprocessed'\n",
    "make_dirs(PATH_OUT)\n",
    "\n",
    "#Simple function for custom-saving images\n",
    "def save_image(img, name, path=PATH_OUT, normalize=True, overwrite=True):\n",
    "    #Normalize\n",
    "    if normalize:\n",
    "        img_backup= sitk.Image(img)\n",
    "        img_arr= rescale_intensity(sitk.GetArrayFromImage(img).astype(np.float32), thres=(.9, 99.9))\n",
    "        img= sitk.GetImageFromArray(img_arr)\n",
    "        img.CopyInformation(img_backup)\n",
    "        \n",
    "    #Save\n",
    "    full_path= os.path.join(path, pid + '_' + name + '.nrrd')\n",
    "    if not os.path.exists(full_path) or overwrite: \n",
    "        sitk.WriteImage(img, full_path, True)"
   ]
  },
  {
   "cell_type": "markdown",
   "id": "28ce199d",
   "metadata": {},
   "source": [
    "### Process the images"
   ]
  },
  {
   "cell_type": "code",
   "execution_count": 3,
   "id": "bb3109da-e894-43e2-b9b0-90eb4ce0daae",
   "metadata": {
    "scrolled": false
   },
   "outputs": [
    {
     "name": "stdout",
     "output_type": "stream",
     "text": [
      "ID0001\n",
      "Warning: Image and mask are in different frames of reference.  Size: image (512, 512, 24) vs mask (512, 512, 144).  Spacing: image (0.46875, 0.46875, 4.000481605529785) vs mask (0.46875, 0.46875, 0.6667469342549642).  Check the output to make sure it is correct.\n",
      " - DSC: 0.8556\n"
     ]
    },
    {
     "data": {
      "application/vnd.jupyter.widget-view+json": {
       "model_id": "b1e54f9932604b14bbe1213db46659ce",
       "version_major": 2,
       "version_minor": 0
      },
      "text/plain": [
       "interactive(children=(IntSlider(value=80, description='z', max=159, style=SliderStyle(handle_color='lightblue'…"
      ]
     },
     "metadata": {},
     "output_type": "display_data"
    },
    {
     "data": {
      "application/vnd.jupyter.widget-view+json": {
       "model_id": "2a17f3df962d47a8acef779733afb5ee",
       "version_major": 2,
       "version_minor": 0
      },
      "text/plain": [
       "interactive(children=(IntSlider(value=80, description='z', max=159, style=SliderStyle(handle_color='lightblue'…"
      ]
     },
     "metadata": {},
     "output_type": "display_data"
    },
    {
     "name": "stdout",
     "output_type": "stream",
     "text": [
      "ID0002\n",
      "Warning: Image and mask are in different frames of reference.  Size: image (512, 512, 28) vs mask (512, 512, 168).  Spacing: image (0.46875000000000006, 0.46875000000000006, 3.999543428421021) vs mask (0.46875, 0.46875, 0.6665905714035036).  Check the output to make sure it is correct.\n",
      " - DSC: 0.7925\n"
     ]
    },
    {
     "data": {
      "application/vnd.jupyter.widget-view+json": {
       "model_id": "3159316a90164f36b36df1b15199c519",
       "version_major": 2,
       "version_minor": 0
      },
      "text/plain": [
       "interactive(children=(IntSlider(value=80, description='z', max=159, style=SliderStyle(handle_color='lightblue'…"
      ]
     },
     "metadata": {},
     "output_type": "display_data"
    },
    {
     "data": {
      "application/vnd.jupyter.widget-view+json": {
       "model_id": "2e46baad0efa40f58ef7f7abcbf2f96c",
       "version_major": 2,
       "version_minor": 0
      },
      "text/plain": [
       "interactive(children=(IntSlider(value=80, description='z', max=159, style=SliderStyle(handle_color='lightblue'…"
      ]
     },
     "metadata": {},
     "output_type": "display_data"
    }
   ],
   "source": [
    "for pid in ['ID0001', 'ID0002']:\n",
    "    #Check if processed image already exists\n",
    "    print(pid)\n",
    "    if CONTINUE_IF_EXISTS:\n",
    "        MR_PATH= os.path.join(PATH_OUT, pid + '_MR_img.nrrd')\n",
    "        if os.path.exists(MR_PATH): \n",
    "            print(f\"{MR_PATH} found. Continuing\")\n",
    "            continue\n",
    "\n",
    "    #Load all\n",
    "    mr_img, mr_msk, mr_msk_HD= sitk.ReadImage(os.path.join(PATH_IN, pid + '_MR_img.nrrd')),\\\n",
    "                               sitk.ReadImage(os.path.join(PATH_IN, pid + '_MR_msk.nrrd')),\\\n",
    "                               sitk.ReadImage(os.path.join(PATH_IN, pid + '_MR_msk_HD.nrrd'))\n",
    "    us_img, us_msk= sitk.ReadImage(os.path.join(PATH_IN, pid + '_US_img.nrrd')),\\\n",
    "                    sitk.ReadImage(os.path.join(PATH_IN, pid + '_US_msk.nrrd'))\n",
    "    \n",
    "    #Take a center crop of images\n",
    "    mr_img, mr_msk= resample_image(mr_img, SIZE, SPACING, mode='roi', mask=mr_msk_HD)\n",
    "    us_img, us_msk= resample_image(us_img, SIZE, SPACING, mode='roi', mask=us_msk)\n",
    "    \n",
    "    #Check for mask problems\n",
    "    #Very low DSC might be a problem \n",
    "    #(e.g. MR and US images do not correspond to the same patient)\n",
    "    mr_msk_arr= sitk.GetArrayFromImage(mr_msk).astype(np.uint8)\n",
    "    us_msk_arr= sitk.GetArrayFromImage(us_msk).astype(np.uint8)\n",
    "    dsc= 2*(mr_msk_arr * us_msk_arr).sum() / (mr_msk_arr.sum() + us_msk_arr.sum()).astype(np.float32)\n",
    "    print(' - DSC: %.4f'%(dsc))\n",
    "    \n",
    "    #Detect mask border\n",
    "    #A mask touching the border might also be a problem \n",
    "    #(e.g. US prostate might have not been completely captured)\n",
    "    detections= detect_border(us_msk_arr + mr_msk_arr, threshold=1)\n",
    "    for border, detection in zip(['z-axis up', 'y-axis up', 'x-axis up', \n",
    "                                  'z-axis down', 'y-axis down', 'x-axis down'], detections):\n",
    "        if detection and 'z' not in border:\n",
    "            print(' > Warning: Mask very near to the %s border'%border)\n",
    "    \n",
    "    #Clean mask?\n",
    "    if CLEAN:\n",
    "        clean_params= ([7]*3, sitk.sitkBall)\n",
    "        mr_msk = sitk.BinaryMorphologicalOpening(mr_msk, *clean_params)\n",
    "        mr_msk = sitk.BinaryMorphologicalClosing(mr_msk, *clean_params)\n",
    "        us_msk = sitk.BinaryMorphologicalOpening(us_msk, *clean_params)\n",
    "        us_msk = sitk.BinaryMorphologicalClosing(us_msk, *clean_params)\n",
    "    \n",
    "    #Plot\n",
    "    if PLOT or dsc < 0.8: #Plot also when DSC is very low\n",
    "        plot(mr_img, masks=[mr_msk, us_msk], title=pid + ' (MR)')\n",
    "        plot(us_img, masks=[mr_msk, us_msk], title=pid + ' (US)')\n",
    "        \n",
    "    #Save everything\n",
    "    save_image(mr_img, 'MR_img')\n",
    "    save_image(mr_msk, 'MR_msk', normalize=False)\n",
    "    save_image(us_img, 'US_img')\n",
    "    save_image(us_msk, 'US_msk', normalize=False)"
   ]
  }
 ],
 "metadata": {
  "kernelspec": {
   "display_name": "Python [conda env:registration]",
   "language": "python",
   "name": "conda-env-registration-py"
  },
  "language_info": {
   "codemirror_mode": {
    "name": "ipython",
    "version": 3
   },
   "file_extension": ".py",
   "mimetype": "text/x-python",
   "name": "python",
   "nbconvert_exporter": "python",
   "pygments_lexer": "ipython3",
   "version": "3.8.0"
  }
 },
 "nbformat": 4,
 "nbformat_minor": 5
}
