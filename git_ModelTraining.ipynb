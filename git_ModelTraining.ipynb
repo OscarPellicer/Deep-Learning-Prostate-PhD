{
 "cells": [
  {
   "cell_type": "markdown",
   "id": "46165489",
   "metadata": {},
   "source": [
    "# Segmentation or registration CNN training and evaluation\n",
    "\n",
    "1. Train either a segmentation or a registration (DDF prediction) model\n",
    "1. Evaluate it or test on new images\n",
    "1. Plot the results\n",
    "\n",
    "### Load required libraries"
   ]
  },
  {
   "cell_type": "code",
   "execution_count": 1,
   "id": "52629983",
   "metadata": {
    "scrolled": false
   },
   "outputs": [
    {
     "data": {
      "text/html": [
       "<style>.widget-hslider { width: auto !important } </style>"
      ],
      "text/plain": [
       "<IPython.core.display.HTML object>"
      ]
     },
     "metadata": {},
     "output_type": "display_data"
    }
   ],
   "source": [
    "%load_ext autoreload\n",
    "%autoreload 2\n",
    "\n",
    "#Common imports + pytorch + torchinfo\n",
    "import argparse, shlex, glob, os, sys, numpy as np\n",
    "from collections import defaultdict\n",
    "from functools import partial\n",
    "import SimpleITK as sitk\n",
    "import torch, pytorch_lightning as pl\n",
    "from torchinfo import summary\n",
    "torch.autograd.set_detect_anomaly(True)\n",
    "\n",
    "#Our library\n",
    "from lib.models import SegmentationModel, CustomMaskedSegmentationModel, DDFModel\n",
    "from lib.data import MedicalImageDataset, SubsetDataModule, PathDataModule\n",
    "\n",
    "#plot_lib\n",
    "from pathlib import Path\n",
    "sys.path.append(os.path.join(Path.home(), 'plot_lib'))\n",
    "from plot_lib import plot, plot_multi_mask, plot_alpha, plot_composite"
   ]
  },
  {
   "cell_type": "markdown",
   "id": "b08fa6b1",
   "metadata": {},
   "source": [
    "### Global configuration"
   ]
  },
  {
   "cell_type": "code",
   "execution_count": 2,
   "id": "810dc59f",
   "metadata": {},
   "outputs": [
    {
     "name": "stdout",
     "output_type": "stream",
     "text": [
      "PROBLEM='DDF': Dense deformation field estimation from MR / US pairs with corresponding prostate masks\n"
     ]
    }
   ],
   "source": [
    "#Global problem to solve\n",
    "PROBLEM= 'DDF'\n",
    "problem_dict= {\n",
    "     'SEG_MR': 'Standard MR segmentation problem', \n",
    "     'DDF': 'Dense deformation field estimation from MR / US pairs with corresponding prostate masks'}\n",
    "print(f\"{PROBLEM=}: {problem_dict[PROBLEM]}\")\n",
    "test_id= -1 #Position of the patient for which a sample will be plotted\n",
    "    \n",
    "#Train / test / predict?\n",
    "TRAIN= False\n",
    "TEST= True\n",
    "BLIND_PREDICT= True"
   ]
  },
  {
   "cell_type": "markdown",
   "id": "e45c5205",
   "metadata": {},
   "source": [
    "### Data loading configuration"
   ]
  },
  {
   "cell_type": "code",
   "execution_count": 3,
   "id": "5eb9b385",
   "metadata": {
    "scrolled": false
   },
   "outputs": [
    {
     "name": "stdout",
     "output_type": "stream",
     "text": [
      "{'dataset': 'IVO', 'pid': 'ID0002'}\n"
     ]
    },
    {
     "data": {
      "application/vnd.jupyter.widget-view+json": {
       "model_id": "ef5209f884174ee1b96a4cc068691a0a",
       "version_major": 2,
       "version_minor": 0
      },
      "text/plain": [
       "interactive(children=(IntSlider(value=60, description='z', max=119, style=SliderStyle(handle_color='lightblue'…"
      ]
     },
     "metadata": {},
     "output_type": "display_data"
    },
    {
     "data": {
      "application/vnd.jupyter.widget-view+json": {
       "model_id": "87b75664ffc04574bb7c3779efaea9cb",
       "version_major": 2,
       "version_minor": 0
      },
      "text/plain": [
       "interactive(children=(IntSlider(value=60, description='z', max=119, style=SliderStyle(handle_color='lightblue'…"
      ]
     },
     "metadata": {},
     "output_type": "display_data"
    },
    {
     "data": {
      "application/vnd.jupyter.widget-view+json": {
       "model_id": "bfcd09cd497a4f088d33ae7a9af3f40b",
       "version_major": 2,
       "version_minor": 0
      },
      "text/plain": [
       "interactive(children=(IntSlider(value=60, description='z', max=119, style=SliderStyle(handle_color='lightblue'…"
      ]
     },
     "metadata": {},
     "output_type": "display_data"
    },
    {
     "data": {
      "application/vnd.jupyter.widget-view+json": {
       "model_id": "63b0c8779ad9470190188b3d2fd3e783",
       "version_major": 2,
       "version_minor": 0
      },
      "text/plain": [
       "interactive(children=(IntSlider(value=60, description='z', max=119, style=SliderStyle(handle_color='lightblue'…"
      ]
     },
     "metadata": {},
     "output_type": "display_data"
    },
    {
     "name": "stderr",
     "output_type": "stream",
     "text": [
      "C:\\Users\\oscar\\Miniconda3\\envs\\registration\\lib\\site-packages\\torch\\functional.py:445: UserWarning: torch.meshgrid: in an upcoming release, it will be required to pass the indexing argument. (Triggered internally at  ..\\aten\\src\\ATen\\native\\TensorShape.cpp:2157.)\n",
      "  return _VF.meshgrid(tensors, **kwargs)  # type: ignore[attr-defined]\n"
     ]
    },
    {
     "data": {
      "application/vnd.jupyter.widget-view+json": {
       "model_id": "e716eee51d4d45f3b3138605a40172c0",
       "version_major": 2,
       "version_minor": 0
      },
      "text/plain": [
       "interactive(children=(IntSlider(value=60, description='z', max=119, style=SliderStyle(handle_color='lightblue'…"
      ]
     },
     "metadata": {},
     "output_type": "display_data"
    },
    {
     "name": "stdout",
     "output_type": "stream",
     "text": [
      "Batch size: 3; Accumulated batches: 1\n",
      "Input size: [1, 4, 120, 120, 120]\n",
      "Test ids: []\n",
      "\n",
      " -  train 2\n",
      " -  test 0\n",
      " -  val 0\n",
      " -  predict 2\n"
     ]
    }
   ],
   "source": [
    "#Problem-specific configuration\n",
    "if PROBLEM.startswith('SEG'):\n",
    "    \n",
    "    #Build DataModule\n",
    "    modality= PROBLEM.split('_')[-1]\n",
    "    data_path= 'D:/oscar/Prostate Images/Promise12/Train'\n",
    "    #input_size, spacing= [160, 160, 32], [0.75,0.75,3]\n",
    "    input_size, spacing= [112, 112, 32], [1,1,3]\n",
    "    input_channels, output_channels= 1, 2 #Consider BG class too\n",
    "    num_workers, batch_size= 4, 4\n",
    "    model_class= SegmentationModel\n",
    "    dataModule= PathDataModule(data_path, {'*_segmentation.mhd':'MR_mask', '*.mhd':'MR'}, dataset='Promise12',\n",
    "                               num_workers=num_workers, batch_size=batch_size,\n",
    "                               inputs=[modality], outputs=[f'{modality}_mask'],\n",
    "                               subset_percentages= {'test':0.15, 'val':0.10, 'train':0.75}, shuffle=True,\n",
    "                               size=input_size, spacing=spacing, cache=True,\n",
    "                               sorting_fn= lambda id: int(id.split('Case')[1]),\n",
    "                               id_making_fn=lambda path: path.split('_')[0])\n",
    "    \n",
    "    #Plot a sample\n",
    "    dataModule.setup()\n",
    "    img, msk, meta= dataModule.train_dataset[test_id]\n",
    "    print(meta)\n",
    "    plot(img[0], masks=[msk[1]], title=dataModule.train_ids[test_id])\n",
    "    \n",
    "elif PROBLEM.startswith('DDF'):\n",
    "\n",
    "    #Build DataModule\n",
    "    data_path= r'./registration_data/preprocessed'\n",
    "    data_path_DDF= r'./registration_data/DDFs'\n",
    "    fiducials_path= r'./registration_data/fiducials'\n",
    "    #input_size, spacing= [160]*3, [0.5]*3\n",
    "    input_size, spacing= [120]*3, [2/3]*3\n",
    "    input_channels, output_channels= 4, 3\n",
    "    model_class= DDFModel\n",
    "    num_workers, batch_size= 3, 3 #Set to 1,1 if using MI loss\n",
    "    dataModule= PathDataModule(data_path_DDF, data_path, {'*_DDF_FEM.nrrd':'DDF'}, \n",
    "                               {'*_MR_img.nrrd':'MR', '*_US_img.nrrd':'US', \n",
    "                                '*_MR_msk.nrrd':'MR_mask', '*_US_msk.nrrd':'US_mask'},\n",
    "                               sorting_fn= lambda id: int(id[2:]),\n",
    "                               id_making_fn=lambda path: path.split('_')[0],\n",
    "                               num_workers=num_workers, batch_size=batch_size, \n",
    "                               inputs=['MR', 'US', 'MR_mask', 'US_mask'], problem='masked_regression',\n",
    "                               outputs=['DDF', 'US_mask'], size=input_size, spacing=spacing, process_ddf=True,\n",
    "                               cache=True, output_channels=None, mask_sigma=[7]*3, normalize_inputs=[0,1],\n",
    "                               subset_percentages= {'test':0.15, 'val':0.10, 'train':0.75}, shuffle=False,\n",
    "                               input_interpolator=([sitk.sitkBSpline]*2) + ([sitk.sitkLabelGaussian]*2))\n",
    "\n",
    "    #Plot a sample\n",
    "    dataModule.setup()\n",
    "    img, ddf, meta= dataModule.train_dataset[test_id]\n",
    "    print(meta)\n",
    "    plot(img[0], masks=[img[2] > 0.5], title=dataModule.train_ids[test_id])\n",
    "    plot(img[1], masks=[img[3] > 0.5])\n",
    "    \n",
    "    masks_plot= [img[2] > 0.5, img[3] > 0.5]\n",
    "    plot(ddf[:3].transpose((1,2,3,0)), masks=masks_plot, is_color=True)\n",
    "    plot(ddf[-1], masks=[img[3] > 0.5])\n",
    "\n",
    "    from lib.models.layers import SpatialTransformer\n",
    "    transformer = SpatialTransformer()\n",
    "    actual_ddf= torch.as_tensor(ddf[:-1][None]).double()\n",
    "    mr_tf_mask= transformer(torch.as_tensor(img[2:3][None]).double(), actual_ddf) \n",
    "    mr_tf= transformer(torch.as_tensor(img[0:1][None]).double(), actual_ddf)\n",
    "    plot(mr_tf[0,0].numpy(), masks=[mr_tf_mask[0,0].numpy() > 0.5, img[3]> 0.5], title='Actual transformed MR')\n",
    "\n",
    "else:\n",
    "    raise ValueError(f'Unknown problem type {PROBLEM}')\n",
    "\n",
    "#Data loader configuration\n",
    "#Gradient will be accumulated to an equivalent of 4 images per batch\n",
    "acb= max(min(4, int(4/batch_size)),1)\n",
    "print(f'Batch size: {batch_size}; Accumulated batches: {acb}')\n",
    "    \n",
    "#Input size\n",
    "full_input_size= [1, input_channels] + input_size\n",
    "print(f'Input size: {full_input_size}')\n",
    "\n",
    "#Some other info\n",
    "print('Test ids:', dataModule.test_ids, end='\\n\\n')\n",
    "for s, s_name in zip([dataModule.train_ids, dataModule.test_ids, \n",
    "                      dataModule.val_ids, dataModule.predict_ids], \n",
    "                     ['train', 'test', 'val', 'predict']):\n",
    "    print(' - ', s_name, len(s))"
   ]
  },
  {
   "cell_type": "markdown",
   "id": "cf48f1ce",
   "metadata": {},
   "source": [
    "### Model training configuration"
   ]
  },
  {
   "cell_type": "code",
   "execution_count": 4,
   "id": "c649ea89",
   "metadata": {
    "scrolled": false
   },
   "outputs": [
    {
     "name": "stdout",
     "output_type": "stream",
     "text": [
      "Warning: ENCODER_CHANNELS, DECODER_CHANNELS, ENCODER_BLOCKS and ANISOTROPIC_STAGES isunimplemented functionality as of yet. I will update the code when ready.\n",
      "48 128 256\n",
      "Namespace(accelerator=None, accumulate_grad_batches=1, amp_backend='native', amp_level=None, anisotropic_stages=2, auto_lr_find=False, auto_scale_batch_size=False, auto_select_gpus=False, batch_size=3, benchmark=False, bnorm=True, check_val_every_n_epoch=5, checkpoint_callback=None, decoder_channels=[256, 128, 48], default_root_dir=None, detect_anomaly=False, deterministic=False, devices=None, diff_weight=1.0, dropout=0.05, dsc_weight=1.0, enable_checkpointing=True, enable_model_summary=True, enable_progress_bar=True, encoder_blocks=[3, 5, 9], encoder_channels=[48, 128, 256], fast_dev_run=False, feat_weight=0.0, flush_logs_every_n_steps=None, gpus=-1, grad_weight=0.0, gradient_clip_algorithm=None, gradient_clip_val=None, input_channels=4, ipus=None, limit_predict_batches=1.0, limit_test_batches=1.0, limit_train_batches=1.0, limit_val_batches=1.0, load_from_checkpoint='weights/DDF_VNET2/version_33/checkpoints/epoch=459-step=23459.ckpt', log_every_n_steps=10, log_gpu_memory=None, logger=True, lr=0.01, max_epochs=700, max_steps=100000, max_time=None, mi_weight=0.0, min_epochs=None, min_steps=None, move_metrics_to_cpu=False, mse_weight=1.0, multiple_trainloader_mode='max_size_cycle', ncc_weight=1.0, ncc_win_size=9, net='VNET2', num_nodes=1, num_processes=1, num_sanity_val_steps=2, output_classes=3, overfit_batches=0.0, plot=True, plugins=None, precision=32, prepare_data_per_node=None, process_position=0, profiler=None, progress_bar_refresh_rate=None, reload_dataloaders_every_epoch=False, reload_dataloaders_every_n_epochs=0, replace_sampler_ddp=True, resume_from_checkpoint=None, stochastic_weight_avg=False, strategy=None, sync_batchnorm=False, terminate_on_nan=None, tpu_cores=None, track_grad_norm=-1, transform=True, transform_flip_x=True, transform_flip_y=False, transform_flip_z=False, transform_rotate_x=5.0, transform_rotate_y=5.0, transform_rotate_z=10.0, transform_scale=0.15, transform_shear=0.025, transform_translate=15.0, ur_dsc_weight=0.0, val_check_interval=1.0, weights_save_path=None, weights_summary='top')\n"
     ]
    },
    {
     "name": "stderr",
     "output_type": "stream",
     "text": [
      "GPU available: True, used: True\n",
      "TPU available: False, using: 0 TPU cores\n",
      "IPU available: False, using: 0 IPUs\n"
     ]
    },
    {
     "name": "stdout",
     "output_type": "stream",
     "text": [
      "====================================================================================================\n",
      "Layer (type:depth-idx)                             Output Shape              Param #\n",
      "====================================================================================================\n",
      "DDFModel                                           --                        --\n",
      "├─VNetLight: 1-1                                   [1, 3, 120, 120, 120]     --\n",
      "│    └─InputTransition: 2-1                        [1, 16, 120, 120, 120]    --\n",
      "│    │    └─Conv3d: 3-1                            [1, 16, 120, 120, 120]    8,016\n",
      "│    │    └─InstanceNorm3d: 3-2                    [1, 16, 120, 120, 120]    --\n",
      "│    │    └─PReLU: 3-3                             [1, 16, 120, 120, 120]    16\n",
      "│    └─DownTransition: 2-2                         [1, 32, 60, 60, 60]       --\n",
      "│    │    └─Conv3d: 3-4                            [1, 32, 60, 60, 60]       4,128\n",
      "│    │    └─InstanceNorm3d: 3-5                    [1, 32, 60, 60, 60]       --\n",
      "│    │    └─PReLU: 3-6                             [1, 32, 60, 60, 60]       32\n",
      "│    │    └─PReLU: 3-7                             --                        (recursive)\n",
      "│    │    └─Sequential: 3-8                        [1, 32, 60, 60, 60]       --\n",
      "│    │    │    └─LUConv: 4-1                       [1, 32, 60, 60, 60]       --\n",
      "│    │    │    │    └─PReLU: 5-1                   --                        (recursive)\n",
      "│    │    │    │    └─Conv3d: 5-2                  --                        (recursive)\n",
      "│    │    │    │    └─InstanceNorm3d: 5-3          --                        --\n",
      "│    └─DownTransition: 2-3                         --                        (recursive)\n",
      "│    └─DownTransition: 2                           --                        --\n",
      "│    │    └─Sequential: 3                          --                        --\n",
      "│    │    │    └─LUConv: 4                         --                        --\n",
      "│    │    │    │    └─Conv3d: 5-4                  [1, 32, 60, 60, 60]       128,032\n",
      "│    │    │    │    └─InstanceNorm3d: 5-5          [1, 32, 60, 60, 60]       --\n",
      "│    │    │    │    └─PReLU: 5-6                   [1, 32, 60, 60, 60]       32\n",
      "│    │    └─PReLU: 3-9                             [1, 32, 60, 60, 60]       32\n",
      "│    └─DownTransition: 2-3                         --                        (recursive)\n",
      "│    │    └─Sequential: 3-10                       --                        (recursive)\n",
      "│    │    │    └─LUConv: 4-2                       --                        (recursive)\n",
      "│    │    │    │    └─PReLU: 5-7                   --                        (recursive)\n",
      "│    │    │    │    └─Conv3d: 5-8                  --                        (recursive)\n",
      "│    │    │    │    └─InstanceNorm3d: 5-9          --                        --\n",
      "│    │    │    └─LUConv: 4-3                       --                        (recursive)\n",
      "│    │    │    │    └─PReLU: 5-10                  --                        (recursive)\n",
      "│    │    │    │    └─Conv3d: 5-11                 --                        (recursive)\n",
      "│    │    │    │    └─InstanceNorm3d: 5-12         --                        --\n",
      "│    └─DownTransition: 2-4                         [1, 64, 30, 30, 30]       --\n",
      "│    │    └─Conv3d: 3-11                           [1, 64, 30, 30, 30]       16,448\n",
      "│    │    └─InstanceNorm3d: 3-12                   [1, 64, 30, 30, 30]       --\n",
      "│    │    └─PReLU: 3-13                            [1, 64, 30, 30, 30]       64\n",
      "│    │    └─Sequential: 3-14                       [1, 64, 30, 30, 30]       --\n",
      "│    │    │    └─LUConv: 4-4                       [1, 64, 30, 30, 30]       --\n",
      "│    │    │    │    └─Conv3d: 5-13                 [1, 64, 30, 30, 30]       512,064\n",
      "│    │    │    │    └─InstanceNorm3d: 5-14         [1, 64, 30, 30, 30]       --\n",
      "│    └─DownTransition: 2                           --                        --\n",
      "│    │    └─Sequential: 3                          --                        --\n",
      "│    │    │    └─LUConv: 4                         --                        --\n",
      "│    │    │    │    └─PReLU: 5-15                  --                        (recursive)\n",
      "│    └─DownTransition: 2-3                         --                        (recursive)\n",
      "│    │    └─Sequential: 3-10                       --                        (recursive)\n",
      "│    │    │    └─LUConv: 4-2                       --                        (recursive)\n",
      "│    │    │    │    └─PReLU: 5-16                  [1, 64, 30, 30, 30]       64\n",
      "│    │    │    └─LUConv: 4-5                       [1, 64, 30, 30, 30]       --\n",
      "│    └─DownTransition: 2                           --                        --\n",
      "│    │    └─Sequential: 3                          --                        --\n",
      "│    │    │    └─LUConv: 4-6                       --                        (recursive)\n",
      "│    └─DownTransition: 2-3                         --                        (recursive)\n",
      "│    │    └─Sequential: 3-10                       --                        (recursive)\n",
      "│    │    │    └─LUConv: 4-3                       --                        (recursive)\n",
      "│    │    │    │    └─Conv3d: 5-17                 [1, 64, 30, 30, 30]       512,064\n",
      "│    │    │    │    └─InstanceNorm3d: 5-18         [1, 64, 30, 30, 30]       --\n",
      "│    │    │    │    └─PReLU: 5-19                  [1, 64, 30, 30, 30]       64\n",
      "│    └─DownTransition: 2                           --                        --\n",
      "│    │    └─Sequential: 3                          --                        --\n",
      "│    │    │    └─LUConv: 4-7                       --                        (recursive)\n",
      "│    └─DownTransition: 2-3                         --                        (recursive)\n",
      "│    │    └─PReLU: 3-15                            [1, 64, 30, 30, 30]       64\n",
      "│    └─DownTransition: 2-5                         [1, 128, 15, 15, 15]      --\n",
      "│    │    └─Conv3d: 3-16                           [1, 128, 15, 15, 15]      65,664\n",
      "│    └─UpTransition: 2-6                           --                        (recursive)\n",
      "│    │    └─ConvTranspose3d: 3-17                  --                        (recursive)\n",
      "│    │    └─InstanceNorm3d: 3-18                   --                        --\n",
      "│    │    └─Dropout3d: 3-19                        --                        --\n",
      "│    └─DownTransition: 2                           --                        --\n",
      "│    │    └─InstanceNorm3d: 3-20                   [1, 128, 15, 15, 15]      --\n",
      "│    │    └─PReLU: 3-21                            [1, 128, 15, 15, 15]      128\n",
      "│    └─UpTransition: 2-6                           --                        (recursive)\n",
      "│    │    └─Dropout3d: 3-22                        --                        --\n",
      "│    │    └─Sequential: 3-23                       --                        (recursive)\n",
      "│    │    │    └─LUConv: 4-8                       --                        (recursive)\n",
      "│    │    │    │    └─PReLU: 5-20                  --                        (recursive)\n",
      "│    │    │    │    └─Conv3d: 5-21                 --                        (recursive)\n",
      "│    │    │    │    └─InstanceNorm3d: 5-22         --                        --\n",
      "│    │    │    └─LUConv: 4-9                       --                        (recursive)\n",
      "│    │    │    │    └─PReLU: 5-23                  --                        (recursive)\n",
      "│    │    │    │    └─Conv3d: 5-24                 --                        (recursive)\n",
      "│    │    │    │    └─InstanceNorm3d: 5-25         --                        --\n",
      "│    └─DownTransition: 2                           --                        --\n",
      "│    │    └─Dropout3d: 3-24                        [1, 128, 15, 15, 15]      --\n",
      "│    │    └─Sequential: 3-25                       [1, 128, 15, 15, 15]      --\n",
      "│    │    │    └─LUConv: 4-10                      [1, 128, 15, 15, 15]      --\n",
      "│    └─UpTransition: 2                             --                        --\n",
      "│    │    └─Dropout3d: 3-26                        --                        --\n",
      "│    │    └─PReLU: 3-27                            --                        (recursive)\n",
      "│    └─DownTransition: 2                           --                        --\n",
      "│    │    └─Sequential: 3                          --                        --\n",
      "│    │    │    └─LUConv: 4                         --                        --\n",
      "│    │    │    │    └─Conv3d: 5-26                 [1, 128, 15, 15, 15]      2,048,128\n",
      "│    │    │    │    └─InstanceNorm3d: 5-27         [1, 128, 15, 15, 15]      --\n",
      "│    │    │    │    └─PReLU: 5-28                  [1, 128, 15, 15, 15]      128\n",
      "│    └─UpTransition: 2                             --                        --\n",
      "│    │    └─Sequential: 3                          --                        --\n",
      "│    │    │    └─LUConv: 4                         --                        --\n",
      "│    │    │    │    └─PReLU: 5-29                  --                        (recursive)\n",
      "│    └─DownTransition: 2                           --                        --\n",
      "│    │    └─Sequential: 3                          --                        --\n",
      "│    │    │    └─LUConv: 4-11                      [1, 128, 15, 15, 15]      --\n",
      "│    │    │    │    └─Conv3d: 5-30                 [1, 128, 15, 15, 15]      2,048,128\n",
      "│    │    │    │    └─InstanceNorm3d: 5-31         [1, 128, 15, 15, 15]      --\n",
      "│    │    │    │    └─PReLU: 5-32                  [1, 128, 15, 15, 15]      128\n",
      "│    │    │    └─LUConv: 4-12                      [1, 128, 15, 15, 15]      --\n",
      "│    └─UpTransition: 2                             --                        --\n",
      "│    │    └─Dropout3d: 3-28                        --                        --\n",
      "│    │    └─PReLU: 3-29                            --                        (recursive)\n",
      "│    └─DownTransition: 2                           --                        --\n",
      "│    │    └─Sequential: 3                          --                        --\n",
      "│    │    │    └─LUConv: 4-7                       --                        (recursive)\n",
      "│    │    │    │    └─Conv3d: 5-33                 [1, 128, 15, 15, 15]      2,048,128\n",
      "│    │    │    │    └─InstanceNorm3d: 5-34         [1, 128, 15, 15, 15]      --\n",
      "│    │    │    │    └─PReLU: 5-35                  [1, 128, 15, 15, 15]      128\n",
      "│    └─UpTransition: 2                             --                        --\n",
      "│    │    └─Sequential: 3                          --                        --\n",
      "│    │    │    └─LUConv: 4                         --                        --\n",
      "│    │    │    │    └─PReLU: 5-36                  --                        (recursive)\n",
      "│    └─DownTransition: 2                           --                        --\n",
      "│    │    └─PReLU: 3-30                            [1, 128, 15, 15, 15]      128\n",
      "│    └─UpTransition: 2-7                           [1, 128, 30, 30, 30]      --\n",
      "│    │    └─Dropout3d: 3-31                        [1, 128, 15, 15, 15]      --\n",
      "│    │    └─Dropout3d: 3-32                        [1, 64, 30, 30, 30]       --\n",
      "│    │    └─ConvTranspose3d: 3-33                  [1, 64, 30, 30, 30]       65,600\n",
      "│    └─OutputTransition: 2                         --                        --\n",
      "│    │    └─Conv3d: 3-34                           --                        (recursive)\n",
      "│    └─UpTransition: 2-6                           --                        (recursive)\n",
      "│    │    └─InstanceNorm3d: 3-35                   [1, 64, 30, 30, 30]       --\n",
      "│    │    └─PReLU: 3-36                            [1, 64, 30, 30, 30]       64\n",
      "│    │    └─Sequential: 3-37                       [1, 128, 30, 30, 30]      --\n",
      "│    │    │    └─LUConv: 4-13                      [1, 128, 30, 30, 30]      --\n",
      "│    │    │    │    └─Conv3d: 5-37                 [1, 128, 30, 30, 30]      2,048,128\n",
      "│    │    │    │    └─InstanceNorm3d: 5-38         [1, 128, 30, 30, 30]      --\n",
      "├─CrossEntropyLoss: 1-2                            --                        --\n",
      "├─SpatialTransformer: 1-3                          --                        --\n",
      "│    └─Identity: 2-8                               --                        --\n",
      "│    └─GridSampler: 2-9                            --                        --\n",
      "├─GradNorm: 1-4                                    --                        --\n",
      "├─MaskedMSE: 1-5                                   --                        --\n",
      "├─MSE: 1-6                                         --                        --\n",
      "├─MaskedNCC: 1-7                                   --                        --\n",
      "│    └─NCC: 2-10                                   --                        --\n",
      "├─SoftDiceOverlap: 1-8                             --                        --\n",
      "├─VNetLight: 1                                     --                        --\n",
      "│    └─UpTransition: 2-6                           --                        (recursive)\n",
      "│    │    └─Sequential: 3-23                       --                        (recursive)\n",
      "│    │    │    └─LUConv: 4-8                       --                        (recursive)\n",
      "│    │    │    │    └─PReLU: 5-39                  [1, 128, 30, 30, 30]      128\n",
      "│    │    │    └─LUConv: 4-14                      [1, 128, 30, 30, 30]      --\n",
      "│    │    │    │    └─Conv3d: 5-40                 [1, 128, 30, 30, 30]      2,048,128\n",
      "│    │    │    │    └─InstanceNorm3d: 5-41         [1, 128, 30, 30, 30]      --\n",
      "│    │    │    │    └─PReLU: 5-42                  [1, 128, 30, 30, 30]      128\n",
      "│    │    └─PReLU: 3-38                            [1, 128, 30, 30, 30]      128\n",
      "│    └─UpTransition: 2-11                          [1, 64, 60, 60, 60]       --\n",
      "│    │    └─Dropout3d: 3-39                        [1, 32, 60, 60, 60]       --\n",
      "│    │    └─ConvTranspose3d: 3-40                  [1, 32, 60, 60, 60]       32,800\n",
      "│    │    └─InstanceNorm3d: 3-41                   [1, 32, 60, 60, 60]       --\n",
      "│    │    └─PReLU: 3-42                            [1, 32, 60, 60, 60]       32\n",
      "│    │    └─Sequential: 3-43                       [1, 64, 60, 60, 60]       --\n",
      "│    │    │    └─LUConv: 4-15                      [1, 64, 60, 60, 60]       --\n",
      "│    │    │    │    └─Conv3d: 5-43                 [1, 64, 60, 60, 60]       512,064\n",
      "│    │    │    │    └─InstanceNorm3d: 5-44         [1, 64, 60, 60, 60]       --\n",
      "│    │    │    │    └─PReLU: 5-45                  [1, 64, 60, 60, 60]       64\n",
      "│    │    └─PReLU: 3-44                            [1, 64, 60, 60, 60]       64\n",
      "│    └─UpTransition: 2-12                          [1, 32, 120, 120, 120]    --\n",
      "│    │    └─Dropout3d: 3-45                        [1, 16, 120, 120, 120]    --\n",
      "│    │    └─ConvTranspose3d: 3-46                  [1, 16, 120, 120, 120]    8,208\n",
      "│    │    └─InstanceNorm3d: 3-47                   [1, 16, 120, 120, 120]    --\n",
      "│    │    └─PReLU: 3-48                            [1, 16, 120, 120, 120]    16\n",
      "│    │    └─Sequential: 3-49                       [1, 32, 120, 120, 120]    --\n",
      "│    │    │    └─LUConv: 4-16                      [1, 32, 120, 120, 120]    --\n",
      "│    │    │    │    └─Conv3d: 5-46                 [1, 32, 120, 120, 120]    128,032\n",
      "│    │    │    │    └─InstanceNorm3d: 5-47         [1, 32, 120, 120, 120]    --\n",
      "│    │    │    │    └─PReLU: 5-48                  [1, 32, 120, 120, 120]    32\n",
      "│    │    └─PReLU: 3-50                            [1, 32, 120, 120, 120]    32\n",
      "│    └─OutputTransition: 2-13                      [1, 3, 120, 120, 120]     --\n",
      "│    │    └─Conv3d: 3-51                           [1, 3, 120, 120, 120]     12,003\n",
      "│    │    └─InstanceNorm3d: 3-52                   [1, 3, 120, 120, 120]     --\n",
      "│    │    └─PReLU: 3-53                            [1, 3, 120, 120, 120]     3\n",
      "│    │    └─Conv3d: 3-54                           [1, 3, 120, 120, 120]     12\n",
      "├─FlowPredictor: 1-9                               [1, 3, 120, 120, 120]     --\n",
      "│    └─Sequential: 2-14                            [1, 3, 120, 120, 120]     --\n",
      "│    │    └─Conv3d: 3-55                           [1, 3, 120, 120, 120]     246\n",
      "│    │    └─LeakyReLU: 3-56                        [1, 3, 120, 120, 120]     --\n",
      "│    │    └─Conv3d: 3-57                           [1, 3, 120, 120, 120]     246\n",
      "====================================================================================================\n",
      "Total params: 12,247,966\n",
      "Trainable params: 12,247,966\n",
      "Non-trainable params: 0\n",
      "Total mult-adds (G): 578.55\n",
      "====================================================================================================\n",
      "Input size (MB): 27.65\n",
      "Forward/backward pass size (MB): 3431.81\n",
      "Params size (MB): 48.99\n",
      "Estimated Total Size (MB): 3508.45\n",
      "====================================================================================================\n"
     ]
    }
   ],
   "source": [
    "print('Warning: ENCODER_CHANNELS, DECODER_CHANNELS, ENCODER_BLOCKS and ANISOTROPIC_STAGES is'\n",
    "      'unimplemented functionality as of yet. I will update the code when ready.')\n",
    "\n",
    "#Global standard settings\n",
    "ENCODER_CHANNELS= '48 128 256'\n",
    "#ENCODER_CHANNELS= ' '.join(['%.0f'%(np.float_power(2, i)) for i in np.arange(5, 9)])\n",
    "DECODER_CHANNELS= ' '.join(ENCODER_CHANNELS.split(' ')[::-1])\n",
    "ENCODER_BLOCKS= '3 5 9' #'3 5 9 3'\n",
    "LR, ANISOTROPIC_STAGES, LOAD_NAME, EPOCHS, ES_PATIENCE= 1e-4, 2, None, 700, 19\n",
    "\n",
    "#Custom config depending on problem type\n",
    "if PROBLEM == 'SEG_MR':\n",
    "    LR= 3e-4\n",
    "    CNN_NAME= 'VNET2'\n",
    "    #LOAD_NAME= 'weights/SEG_MR_VNET2/version_24/epoch=404-step=34019.ckpt'\n",
    "    \n",
    "elif PROBLEM == 'DDF':\n",
    "    LR= 1e-2\n",
    "    ES_PATIENCE= 38\n",
    "    CNN_NAME= 'VNET2'\n",
    "    LOAD_NAME= 'weights/DDF_VNET2/version_33/checkpoints/epoch=459-step=23459.ckpt'\n",
    "    \n",
    "else:\n",
    "    raise ValueError(f'Unknown problem type {PROBLEM}')\n",
    "    \n",
    "#Get to args string\n",
    "print(ENCODER_CHANNELS)\n",
    "argString= (f\" --max_steps 100000 --net {CNN_NAME} --accumulate_grad_batches {acb} --gpus -1 --lr {LR} \"\n",
    "            f\" --bnorm --dropout 0.05 --plot --check_val_every_n_epoch 5 --log_every_n_steps 10 \"\n",
    "            f\" --max_epochs {EPOCHS} --batch_size {batch_size} --transform\"\n",
    "            f\" --input_channels {input_channels} --output_classes {output_channels}\"\n",
    "            f\" {' --load_from_checkpoint %s '%LOAD_NAME if LOAD_NAME is not None else ''}\"\n",
    "            f\" --anisotropic_stages {ANISOTROPIC_STAGES} --encoder_blocks {ENCODER_BLOCKS} \"\n",
    "            f\" --encoder_channels {ENCODER_CHANNELS} --decoder_channels {DECODER_CHANNELS} \"\n",
    "           )\n",
    "\n",
    "#Build parser\n",
    "parser = argparse.ArgumentParser()\n",
    "parser = model_class.add_model_specific_args(parser)\n",
    "parser = pl.Trainer.add_argparse_args(parser)\n",
    "hparams = parser.parse_args(shlex.split(argString))\n",
    "print(hparams)\n",
    "\n",
    "#Load model\n",
    "if hparams.load_from_checkpoint: \n",
    "    model = model_class.load_from_checkpoint(hparams.load_from_checkpoint)\n",
    "else: model = model_class(hparams)\n",
    "    \n",
    "#Logger\n",
    "from pytorch_lightning.loggers import TensorBoardLogger\n",
    "model.example_input_array= torch.rand(full_input_size)\n",
    "logger = TensorBoardLogger('lightning_logs', default_hp_metric=False, name=f'{PROBLEM}_{CNN_NAME}', log_graph=True)\n",
    "\n",
    "#Trainer\n",
    "early_stopping = pl.callbacks.EarlyStopping(monitor=\"val_loss\", patience=ES_PATIENCE, \n",
    "                                            strict=True, verbose=True, mode=\"min\")\n",
    "lr_logger= pl.callbacks.lr_monitor.LearningRateMonitor()\n",
    "swa= pl.callbacks.StochasticWeightAveraging(swa_epoch_start=0.8)\n",
    "trainer = pl.Trainer.from_argparse_args(hparams, callbacks=[early_stopping, lr_logger, swa], logger=logger)\n",
    "\n",
    "#See architecture summary and generate graph\n",
    "print(summary(model, input_size=full_input_size, depth=7))\n",
    "\n",
    "# Run learning rate finder?\n",
    "# lr_finder = trainer.tuner.lr_find(model, dataModule)\n",
    "# fig = lr_finder.plot(suggest=True)\n",
    "\n",
    "#Train\n",
    "if TRAIN: trainer.fit(model, dataModule)"
   ]
  },
  {
   "cell_type": "markdown",
   "id": "0109c7be",
   "metadata": {},
   "source": [
    "### Evaluate model or predict on new data + show results"
   ]
  },
  {
   "cell_type": "code",
   "execution_count": 5,
   "id": "8493933e",
   "metadata": {
    "scrolled": false
   },
   "outputs": [
    {
     "name": "stdout",
     "output_type": "stream",
     "text": [
      "\n",
      " ID0001\n"
     ]
    },
    {
     "data": {
      "application/vnd.jupyter.widget-view+json": {
       "model_id": "692cd66b5a7f49ec8ec3be0849168608",
       "version_major": 2,
       "version_minor": 0
      },
      "text/plain": [
       "interactive(children=(IntSlider(value=80, description='z', max=159, style=SliderStyle(handle_color='lightblue'…"
      ]
     },
     "metadata": {},
     "output_type": "display_data"
    },
    {
     "data": {
      "application/vnd.jupyter.widget-view+json": {
       "model_id": "939a86ee3f244f5682ec15c890c6f496",
       "version_major": 2,
       "version_minor": 0
      },
      "text/plain": [
       "interactive(children=(IntSlider(value=80, description='z', max=159, style=SliderStyle(handle_color='lightblue'…"
      ]
     },
     "metadata": {},
     "output_type": "display_data"
    },
    {
     "data": {
      "application/vnd.jupyter.widget-view+json": {
       "model_id": "91c356da2ac748699513e240deca1b07",
       "version_major": 2,
       "version_minor": 0
      },
      "text/plain": [
       "interactive(children=(IntSlider(value=80, description='z', max=159, style=SliderStyle(handle_color='lightblue'…"
      ]
     },
     "metadata": {},
     "output_type": "display_data"
    },
    {
     "data": {
      "application/vnd.jupyter.widget-view+json": {
       "model_id": "63e164baf4ce45e2af2d050dbf1874ed",
       "version_major": 2,
       "version_minor": 0
      },
      "text/plain": [
       "interactive(children=(IntSlider(value=80, description='z', max=159, style=SliderStyle(handle_color='lightblue'…"
      ]
     },
     "metadata": {},
     "output_type": "display_data"
    },
    {
     "name": "stdout",
     "output_type": "stream",
     "text": [
      "\n",
      "Metrics (>0% is better)\n",
      " - MI (all): 0: -0.0438, 1: -0.0663(51.22%), 2: -0.0504(15.04%), 3: -0.0996(127.15%)\n",
      " - MI (in): 0: -0.0141, 1: -0.0097(-31.25%), 2: -0.0127(-9.90%), 3: -0.0099(-29.74%)\n",
      " - MI grad (all): 0: -0.0021, 1: -0.0035(65.85%), 2: -0.0025(18.87%), 3: -0.0058(177.42%)\n",
      " - MI grad (in): 0: -0.0016, 1: -0.0012(-22.58%), 2: -0.0017(5.50%), 3: -0.0016(-0.85%)\n",
      " - DSC (masks): 0: 0.8564, 1: 0.9856(15.08%), 2: 0.9660(12.79%), 3: 0.9847(14.98%)\n",
      "\n",
      "Metrics (<0% is better)\n",
      " - HD95 (masks): 0: 8.5000, 1: 4.0000(-52.94%), 2: 1.8708(-77.99%), 3: 6.2650(-26.29%)\n",
      " - ABD (masks): 0: 2.6749, 1: 0.6465(-75.83%), 2: 0.6169(-76.94%), 3: 0.9197(-65.62%)\n",
      " - TRE (mm): 0: 5.8015, 1: 4.2370(-26.97%), 2: 4.2309(-27.07%), 3: 2.8980(-50.05%)\n",
      "\n",
      " ID0002\n"
     ]
    },
    {
     "data": {
      "application/vnd.jupyter.widget-view+json": {
       "model_id": "a3d1b6f8080c4b899eb390dc6273c3d0",
       "version_major": 2,
       "version_minor": 0
      },
      "text/plain": [
       "interactive(children=(IntSlider(value=80, description='z', max=159, style=SliderStyle(handle_color='lightblue'…"
      ]
     },
     "metadata": {},
     "output_type": "display_data"
    },
    {
     "data": {
      "application/vnd.jupyter.widget-view+json": {
       "model_id": "e2bc78b1313d41428fa976276779e859",
       "version_major": 2,
       "version_minor": 0
      },
      "text/plain": [
       "interactive(children=(IntSlider(value=80, description='z', max=159, style=SliderStyle(handle_color='lightblue'…"
      ]
     },
     "metadata": {},
     "output_type": "display_data"
    },
    {
     "data": {
      "application/vnd.jupyter.widget-view+json": {
       "model_id": "5dae8520abef40178e1221c51fb45207",
       "version_major": 2,
       "version_minor": 0
      },
      "text/plain": [
       "interactive(children=(IntSlider(value=80, description='z', max=159, style=SliderStyle(handle_color='lightblue'…"
      ]
     },
     "metadata": {},
     "output_type": "display_data"
    },
    {
     "data": {
      "application/vnd.jupyter.widget-view+json": {
       "model_id": "83006297dec9452e8a448de363f615d8",
       "version_major": 2,
       "version_minor": 0
      },
      "text/plain": [
       "interactive(children=(IntSlider(value=80, description='z', max=159, style=SliderStyle(handle_color='lightblue'…"
      ]
     },
     "metadata": {},
     "output_type": "display_data"
    },
    {
     "name": "stdout",
     "output_type": "stream",
     "text": [
      "\n",
      "Metrics (>0% is better)\n",
      " - MI (all): 0: -0.1211, 1: -0.1080(-10.88%), 2: -0.1032(-14.79%), 3: -0.1225(1.09%)\n",
      " - MI (in): 0: -0.0130, 1: -0.0225(73.43%), 2: -0.0255(96.79%), 3: -0.0196(50.98%)\n",
      " - MI grad (all): 0: -0.0013, 1: -0.0063(375.51%), 2: -0.0028(113.72%), 3: -0.0094(606.23%)\n",
      " - MI grad (in): 0: -0.0013, 1: -0.0020(55.80%), 2: -0.0020(58.17%), 3: -0.0024(86.23%)\n",
      " - DSC (masks): 0: 0.7931, 1: 0.9658(21.78%), 2: 0.9528(20.14%), 3: 0.9747(22.90%)\n",
      "\n",
      "Metrics (<0% is better)\n",
      " - HD95 (masks): 0: 9.5000, 1: 13.0000(36.84%), 2: 4.0000(-57.89%), 3: 12.5000(31.58%)\n",
      " - ABD (masks): 0: 3.6195, 1: 2.1262(-41.26%), 2: 0.9347(-74.18%), 3: 2.2444(-37.99%)\n",
      " - TRE (mm): 0: 8.0948, 1: 6.1508(-24.02%), 2: 5.2278(-35.42%), 3: 6.5772(-18.75%)\n",
      "\n",
      "Final metrics\n",
      " - CPU mean time per image: 6.27ms;\n",
      " - CUDA mean time per image: 233.68ms\n",
      "IVO mi_all_base: mean: -0.0825 +/- 0.0386 (N=2) | median : -0.0825 | min : -0.1211 | max : -0.0438\n",
      "     IVO mi_all: mean: -0.0871 +/- 0.0208 (N=2) | median : -0.0871 | min : -0.1080 | max : -0.0663 | p-val ttest: 1.0000\n",
      "IVO mi_all_pred: mean: -0.0768 +/- 0.0264 (N=2) | median : -0.0768 | min : -0.1032 | max : -0.0504 | p-val ttest: 1.0000\n",
      "IVO mi_all_interp: mean: -0.1110 +/- 0.0114 (N=2) | median : -0.1110 | min : -0.1225 | max : -0.0996 | p-val ttest: 0.5000\n",
      "\n",
      " IVO mi_in_base: mean: -0.0135 +/- 0.0006 (N=2) | median : -0.0135 | min : -0.0141 | max : -0.0130\n",
      "      IVO mi_in: mean: -0.0161 +/- 0.0064 (N=2) | median : -0.0161 | min : -0.0225 | max : -0.0097 | p-val ttest: 1.0000\n",
      " IVO mi_in_pred: mean: -0.0191 +/- 0.0064 (N=2) | median : -0.0191 | min : -0.0255 | max : -0.0127 | p-val ttest: 1.0000\n",
      "IVO mi_in_interp: mean: -0.0147 +/- 0.0048 (N=2) | median : -0.0147 | min : -0.0196 | max : -0.0099 | p-val ttest: 1.0000\n",
      "\n",
      "IVO mig_all_base: mean: -0.0017 +/- 0.0004 (N=2) | median : -0.0017 | min : -0.0021 | max : -0.0013\n",
      "    IVO mig_all: mean: -0.0049 +/- 0.0014 (N=2) | median : -0.0049 | min : -0.0063 | max : -0.0035 | p-val ttest: 0.5000\n",
      "IVO mig_all_pred: mean: -0.0027 +/- 0.0002 (N=2) | median : -0.0027 | min : -0.0028 | max : -0.0025 | p-val ttest: 0.5000\n",
      "IVO mig_all_interp: mean: -0.0076 +/- 0.0018 (N=2) | median : -0.0076 | min : -0.0094 | max : -0.0058 | p-val ttest: 0.5000\n",
      "\n",
      "IVO mig_in_base: mean: -0.0014 +/- 0.0002 (N=2) | median : -0.0014 | min : -0.0016 | max : -0.0013\n",
      "     IVO mig_in: mean: -0.0016 +/- 0.0004 (N=2) | median : -0.0016 | min : -0.0020 | max : -0.0012 | p-val ttest: 1.0000\n",
      "IVO mig_in_pred: mean: -0.0019 +/- 0.0002 (N=2) | median : -0.0019 | min : -0.0020 | max : -0.0017 | p-val ttest: 0.5000\n",
      "IVO mig_in_interp: mean: -0.0020 +/- 0.0004 (N=2) | median : -0.0020 | min : -0.0024 | max : -0.0016 | p-val ttest: 1.0000\n",
      "\n",
      "  IVO dsc2_base: mean: 0.8248 +/- 0.0317 (N=2) | median : 0.8248 | min : 0.7931 | max : 0.8564\n",
      "       IVO dsc2: mean: 0.9757 +/- 0.0099 (N=2) | median : 0.9757 | min : 0.9658 | max : 0.9856 | p-val ttest: 0.5000\n",
      "  IVO dsc2_pred: mean: 0.9594 +/- 0.0066 (N=2) | median : 0.9594 | min : 0.9528 | max : 0.9660 | p-val ttest: 0.5000\n",
      "IVO dsc2_interp: mean: 0.9797 +/- 0.0050 (N=2) | median : 0.9797 | min : 0.9747 | max : 0.9847 | p-val ttest: 0.5000\n",
      "\n",
      "  IVO hd95_base: mean: 9.0000 +/- 0.5000 (N=2) | median : 9.0000 | min : 8.5000 | max : 9.5000\n",
      "       IVO hd95: mean: 8.5000 +/- 4.5000 (N=2) | median : 8.5000 | min : 4.0000 | max : 13.0000 | p-val ttest: 1.0000\n",
      "  IVO hd95_pred: mean: 2.9354 +/- 1.0646 (N=2) | median : 2.9354 | min : 1.8708 | max : 4.0000 | p-val ttest: 0.5000\n",
      "IVO hd95_interp: mean: 9.3825 +/- 3.1175 (N=2) | median : 9.3825 | min : 6.2650 | max : 12.5000 | p-val ttest: 1.0000\n",
      "\n",
      "   IVO abd_base: mean: 3.1472 +/- 0.4723 (N=2) | median : 3.1472 | min : 2.6749 | max : 3.6195\n",
      "        IVO abd: mean: 1.3864 +/- 0.7398 (N=2) | median : 1.3864 | min : 0.6465 | max : 2.1262 | p-val ttest: 0.5000\n",
      "   IVO abd_pred: mean: 0.7758 +/- 0.1589 (N=2) | median : 0.7758 | min : 0.6169 | max : 0.9347 | p-val ttest: 0.5000\n",
      " IVO abd_interp: mean: 1.5820 +/- 0.6624 (N=2) | median : 1.5820 | min : 0.9197 | max : 2.2444 | p-val ttest: 0.5000\n",
      "\n",
      "   IVO tre_base: mean: 6.9481 +/- 1.8237 (N=4) | median : 6.6344 | min : 4.7323 | max : 9.7914\n",
      "        IVO tre: mean: 5.1939 +/- 1.0813 (N=4) | median : 5.4006 | min : 3.5712 | max : 6.4032 | p-val ttest: 0.2500\n",
      "   IVO tre_pred: mean: 4.7293 +/- 1.2383 (N=4) | median : 4.2309 | min : 3.6456 | max : 6.8100 | p-val ttest: 0.2500\n",
      " IVO tre_interp: mean: 4.7376 +/- 2.2718 (N=4) | median : 5.1571 | min : 1.2133 | max : 7.4231 | p-val ttest: 0.2500\n",
      "\n"
     ]
    }
   ],
   "source": [
    "#Manually visualize results & compute metrics\n",
    "from lib.processing.preprocessing import (\n",
    "       undo_resample_image, surface_distance_metrics, DSC_sitk, \n",
    "       slice_wise_binary_smoothing, surface_distance_metrics, \n",
    "       MI_sitk, DSC_sitk, print_metric, sitk_transform_points, load_json, \n",
    "       get_gradient_features, transform_sitk, point_average_error, sitk_transform_points, \n",
    "       point_max_min_distance, point_hd95, torch2sitk, read_fiducials, \n",
    "       point_abd, distance0, distance, pair_test)\n",
    "\n",
    "#Initialize some data structures\n",
    "cpu_times, cuda_times, results= [], [], {}\n",
    "\n",
    "if PROBLEM.startswith('SEG') and (TEST or BLIND_PREDICT):\n",
    "    for m in ['dsc', 'abd', 'hd95']:\n",
    "        results[m]= defaultdict(list)\n",
    "        results[m]['All']= []\n",
    "    model.eval()\n",
    "    with torch.no_grad():\n",
    "        dataset= dataModule.predict_dataset if BLIND_PREDICT else dataModule.test_dataset\n",
    "        for i, batch in enumerate(dataset):\n",
    "            x, y, meta= batch #Unpack batch\n",
    "            x, y= torch.as_tensor(x)[None].to(model.device), torch.as_tensor(y)[None].to(model.device)\n",
    "            pid= meta['pid']; print('\\n', pid)\n",
    "            \n",
    "            with torch.autograd.profiler.profile(use_cuda=True) as prof: #Measure forward time!\n",
    "                yp_onehot, _, _= model.forward(x) #Predict\n",
    "            cpu_times.append(prof.total_average().self_cpu_time_total)\n",
    "            cuda_times.append(prof.total_average().self_cuda_time_total)\n",
    "            \n",
    "            mask_p= sitk.GetImageFromArray(yp_onehot.cpu().numpy()[0,1]) > 0.5 \n",
    "            mask_p= undo_resample_image(mask_p, **meta['image_meta'][0], interpolator=sitk.sitkLabelGaussian)\n",
    "            mask_p= slice_wise_binary_smoothing(mask_p, radius=3)\n",
    "            img= meta['inputs'][0]\n",
    "                        \n",
    "            if BLIND_PREDICT:\n",
    "                os.makedirs('./predicted', exist_ok = True)\n",
    "                plot(img, masks=[mask_p], center_crop=[120, 120], title=meta['pid'])\n",
    "                sitk.WriteImage(mask_p > 0.5, os.path.join('./predicted', f'{pid}.nrrd'), True)\n",
    "            else:\n",
    "                if meta['outputs'][0].GetNumberOfComponentsPerPixel() > 1:\n",
    "                    mask= sitk.VectorIndexSelectionCast(meta['outputs'][0], 0, outputPixelType=sitk.sitkFloat32) > 0.5\n",
    "                else:\n",
    "                    mask= sitk.Cast(meta['outputs'][0], sitk.sitkFloat32) > 0.5\n",
    "\n",
    "                plot(img, masks=[mask, mask_p], center_crop=[120, 120], title=meta['pid'])\n",
    "                dsc, (hd95, abd)= DSC_sitk(mask, mask_p), surface_distance_metrics(mask, mask_p)\n",
    "                print(meta['dataset'], meta['pid'], dsc, hd95, abd)\n",
    "                for name, value in zip(['dsc', 'hd95', 'abd'], [dsc, hd95, abd]):\n",
    "                    results[name][meta['dataset']].append(value)\n",
    "                    results[name]['All'].append(value)\n",
    "                                 \n",
    "elif PROBLEM.startswith('DDF') and (TEST or BLIND_PREDICT):\n",
    "    all_metrics= ['mi_all', 'mi_in', 'mig_all', 'mig_in', 'dsc2','hd95', 'abd', 'tre']\n",
    "    for m in all_metrics:\n",
    "        results[m + '_base']= defaultdict(list)\n",
    "        results[m]= defaultdict(list)\n",
    "        results[m + '_pred']= defaultdict(list)\n",
    "        results[m + '_interp']= defaultdict(list)\n",
    "    model.eval()\n",
    "    with torch.no_grad():\n",
    "        dataset= dataModule.predict_dataset if BLIND_PREDICT else dataModule.test_dataset\n",
    "        for i, batch in enumerate(dataset):           \n",
    "            #Extract batch data\n",
    "            x, y_true, meta = batch\n",
    "            pid= meta['pid']; print('\\n', pid)\n",
    "            x, y_true= torch.as_tensor(x)[None].to(model.device), torch.as_tensor(y_true)[None].to(model.device)\n",
    "            y_softmask= y_true[:,-1:] #Mask is contained in the last channel of y\n",
    "            y_ddf= y_true[:,:-1] #DDF is contained in the first 3 channels of y\n",
    "            with torch.autograd.profiler.profile(use_cuda=True) as prof: #Measure forward time!\n",
    "                yp_ddf= model.forward(x[:,:4]) #Use model\n",
    "            cpu_times.append(prof.total_average().self_cpu_time_total)\n",
    "            cuda_times.append(prof.total_average().self_cuda_time_total)\n",
    "            \n",
    "            #Load non-FEM interpolated DDF\n",
    "            ddf_sitk_interp= sitk.ReadImage(os.path.join(data_path_DDF, pid + '_DDF.nrrd'))\n",
    "            ddf_sitk_inv_interp= sitk.InvertDisplacementField(ddf_sitk_interp, enforceBoundaryCondition=False)\n",
    "            \n",
    "            #Everything to sitk\n",
    "            mr_img, us_img, mr_msk, us_msk= meta['inputs'][:4]\n",
    "            ddf_sitk_inv, _= meta['outputs']\n",
    "            ddf_sitk= sitk.InvertDisplacementField(ddf_sitk_inv, enforceBoundaryCondition=False)\n",
    "            \n",
    "            ddf_sitk_inv_pred= torch2sitk(yp_ddf, c=[2,1,0], f=lambda a: a.transpose(1,2,3,0) * spacing[2], ref=ddf_sitk)\n",
    "            ddf_sitk_inv_pred= undo_resample_image(ddf_sitk_inv_pred, **meta['image_meta'][0], interpolator=sitk.sitkBSpline)\n",
    "            ddf_sitk_pred= sitk.InvertDisplacementField(ddf_sitk_inv_pred, enforceBoundaryCondition=False)\n",
    "            \n",
    "            DDF_tfm= sitk.DisplacementFieldTransform(sitk.Cast(ddf_sitk, sitk.sitkVectorFloat64))\n",
    "            DDF_tfm_pred= sitk.DisplacementFieldTransform(sitk.Cast(ddf_sitk_pred, sitk.sitkVectorFloat64))\n",
    "            DDF_tfm_interp= sitk.DisplacementFieldTransform(sitk.Cast(ddf_sitk_interp, sitk.sitkVectorFloat64))\n",
    "            DDF_tfm_inv= sitk.DisplacementFieldTransform(sitk.Cast(ddf_sitk_inv, sitk.sitkVectorFloat64))\n",
    "            DDF_tfm_inv_pred= sitk.DisplacementFieldTransform(sitk.Cast(ddf_sitk_inv_pred, sitk.sitkVectorFloat64))\n",
    "            DDF_tfm_inv_interp= sitk.DisplacementFieldTransform(sitk.Cast(ddf_sitk_inv_interp, sitk.sitkVectorFloat64))\n",
    "            \n",
    "            mr_img_after= sitk.Resample(mr_img, transform=DDF_tfm_inv, interpolator=sitk.sitkBSpline)\n",
    "            mr_img_after_pred= sitk.Resample(mr_img, transform=DDF_tfm_inv_pred, interpolator=sitk.sitkBSpline)\n",
    "            mr_img_after_interp= sitk.Resample(mr_img, transform=DDF_tfm_inv_interp, interpolator=sitk.sitkBSpline)\n",
    "            mr_msk_after= sitk.Resample(mr_msk, transform=DDF_tfm_inv, interpolator=sitk.sitkLabelGaussian)\n",
    "            mr_msk_after_pred= sitk.Resample(mr_msk, transform=DDF_tfm_inv_pred, interpolator=sitk.sitkLabelGaussian)\n",
    "            mr_msk_after_interp= sitk.Resample(mr_msk, transform=DDF_tfm_inv_interp, interpolator=sitk.sitkLabelGaussian)\n",
    "            \n",
    "            #Load fiducials (if available) and transform them\n",
    "            mr_fiducials= read_fiducials(os.path.join(fiducials_path, pid + '_MR.mrk.json'))\n",
    "            us_fiducials= read_fiducials(os.path.join(fiducials_path, pid + '_US.mrk.json'), check_fiducials=mr_fiducials)\n",
    "            us_fiducials= list(us_fiducials.values())\n",
    "            mr_fiducials= list(mr_fiducials.values()) if len(us_fiducials) else []\n",
    "\n",
    "            mr_fiducials_after= list(sitk_transform_points(DDF_tfm, mr_fiducials)) if len(mr_fiducials) else []\n",
    "            mr_fiducials_after_pred= list(sitk_transform_points(DDF_tfm_pred, mr_fiducials)) if len(mr_fiducials) else []\n",
    "            mr_fiducials_after_interp= list(sitk_transform_points(DDF_tfm_interp, mr_fiducials)) if len(mr_fiducials) else []\n",
    "          \n",
    "            #Plot\n",
    "            points=[[*us_img.TransformPhysicalPointToContinuousIndex(p),'o','tab:blue',f'{i+1} (US)']\\\n",
    "                         for i,p in enumerate(us_fiducials)] +\\\n",
    "                    [[*mr_img_after.TransformPhysicalPointToContinuousIndex(p),'o','tab:red',f'{i+1} (MR after)']\\\n",
    "                         for i,p in enumerate(mr_fiducials_after) ]\n",
    "            points= []\n",
    "            plot(mr_img_after, allowed_label_overlap=[3,3], text_kwargs=dict(size=14), scale=3, \n",
    "                 masks=[ [msk, [1], [color], [name]] for msk, name, color in zip([us_msk, mr_msk, mr_msk_after], \n",
    "                        ['US', 'MR before', 'MR after'], ['tab:blue', 'tab:red', 'tab:orange']) ], \n",
    "                 points=points, hide_axis=True,)# title='Reference (CPD + FEM)')\n",
    "            plot(mr_img_after_pred, allowed_label_overlap=[3,3], text_kwargs=dict(size=14), scale=3, \n",
    "                 masks=[ [msk, [1], [color], [name]] for msk, name, color in zip([us_msk, mr_msk, mr_msk_after], \n",
    "                        ['', '', ''], ['tab:blue', 'tab:red', 'tab:orange']) ], \n",
    "                 points=points, hide_axis=True)\n",
    "            plot_composite(*[us_img, mr_img_after][::1], masks=[us_msk], n_tiles=[4]*2, scale=3, \n",
    "                           points=points, hide_axis=True,)# title='Reference (CPD + FEM)')\n",
    "            plot_composite(*[us_img, mr_img_after_pred][::1], masks=[us_msk], n_tiles=[4]*2, scale=3,\n",
    "                           points=points, hide_axis=True)\n",
    "            \n",
    "            #Compute and print metrics\n",
    "            print('\\nMetrics (>0% is better)')\n",
    "            mi_all_base, mi_all, mi_all_pred, mi_all_interp= print_metric(us_img, mr_img, mr_img_after, mr_img_after_pred, \n",
    "                                                 mr_img_after_interp, metric=MI_sitk, name='MI (all)')\n",
    "            mi_in_base, mi_in, mi_in_pred, mi_in_interp= print_metric(us_img, mr_img, mr_img_after, mr_img_after_pred, \n",
    "                                               mr_img_after_interp, metric=partial(MI_sitk, mask=us_msk), name='MI (in)')\n",
    "            mig_all_base, mig_all, mig_all_pred, mig_all_interp= print_metric(us_img, mr_img, mr_img_after, mr_img_after_pred,\n",
    "    mr_img_after_interp, metric=lambda *args: MI_sitk(*(get_gradient_features(a) for a in args)), name='MI grad (all)')\n",
    "            mig_in_base, mig_in, mig_in_pred, mig_in_interp= print_metric(us_img, mr_img, mr_img_after, mr_img_after_pred,\n",
    "    mr_img_after_interp, metric=lambda *args: MI_sitk(*(get_gradient_features(a) for a in args), mask=us_msk), name='MI grad (in)')\n",
    "            dsc2_base, dsc2, dsc2_pred, dsc2_interp= print_metric(us_msk, mr_msk, mr_msk_after, mr_msk_after_pred, \n",
    "                                             mr_msk_after_interp, metric=DSC_sitk, name='DSC (masks)')\n",
    "            \n",
    "            print('\\nMetrics (<0% is better)')\n",
    "            hd95_base, hd95, hd95_pred, hd95_interp= print_metric(us_msk, mr_msk, mr_msk_after, mr_msk_after_pred, \n",
    "                mr_msk_after_interp, metric=lambda *i: surface_distance_metrics(*i)[0], name='HD95 (masks)')\n",
    "            abd_base, abd, abd_pred, abd_interp= print_metric(us_msk, mr_msk, mr_msk_after, mr_msk_after_pred, \n",
    "                mr_msk_after_interp, metric=lambda *i: surface_distance_metrics(*i)[1], name='ABD (masks)')\n",
    "            tre_base, tre, tre_pred, tre_interp= print_metric(us_fiducials, mr_fiducials, mr_fiducials_after, mr_fiducials_after_pred, \n",
    "                                       mr_fiducials_after_interp, metric=lambda a, b: list(distance(a,b)), name='TRE (mm)')\n",
    "            \n",
    "            #Save all metrics\n",
    "            for name, value in zip(\n",
    "               [m + '_base' for m in all_metrics] + all_metrics + \\\n",
    "               [m + '_pred' for m in all_metrics] + [m + '_interp' for m in all_metrics],\n",
    "               [\n",
    "        mi_all_base, mi_in_base, mig_all_base, mig_in_base, dsc2_base, hd95_base, abd_base, tre_base,\n",
    "        mi_all, mi_in, mig_all, mig_in, dsc2, hd95, abd, tre,\n",
    "        mi_all_pred, mi_in_pred, mig_all_pred, mig_in_pred, dsc2_pred, hd95_pred, abd_pred, tre_pred,\n",
    "        mi_all_interp, mi_in_interp, mig_all_interp, mig_in_interp, dsc2_interp, hd95_interp, abd_interp, tre_interp\n",
    "               ]):\n",
    "                if not name.startswith('tre'):\n",
    "                    results[name][meta['dataset']].append(value)\n",
    "                else:\n",
    "                    results[name][meta['dataset']]+= value\n",
    "                if 'All' in results[name].keys():\n",
    "                    results[name]['All'].append(value)\n",
    "else:\n",
    "    raise NotImplementedError('')\n",
    "\n",
    "#Print collected metrics\n",
    "print('\\nFinal metrics')\n",
    "print(f' - CPU mean time per image: {np.median(cpu_times)/1000.:.2f}ms;'\n",
    "      f'\\n - CUDA mean time per image: {np.median(cuda_times)/1000.:.2f}ms')\n",
    "for metric, datasets in results.items():\n",
    "    #print('%s'%metric)\n",
    "    for dataset, values in datasets.items():\n",
    "        if metric.endswith('_base') or 'DDF' not in PROBLEM :\n",
    "            print('%15s: mean: %.4f +/- %.4f (N=%d) | median : %.4f | min : %.4f | max : %.4f'%\n",
    "                  (f\"{dataset} {metric}\", np.nanmean(values), np.nanstd(values), np.sum(~np.isnan(values)), \n",
    "                   np.nanmedian(values), np.nanmin(values), np.nanmax(values)) )\n",
    "        else:\n",
    "            print('%15s: mean: %.4f +/- %.4f (N=%d) | median : %.4f | min : %.4f | max : %.4f | p-val ttest: %.4f'%\n",
    "                  (f\"{dataset} {metric}\", np.nanmean(values), np.nanstd(values), np.sum(~np.isnan(values)),\n",
    "                    np.nanmedian(values), np.nanmin(values), np.nanmax(values), \n",
    "                   pair_test(values, results[metric.replace('_pred', '').replace('_interp', '') + '_base'][dataset]) ))\n",
    "        if metric.endswith('_interp'): print('')"
   ]
  }
 ],
 "metadata": {
  "kernelspec": {
   "display_name": "Python [conda env:registration]",
   "language": "python",
   "name": "conda-env-registration-py"
  },
  "language_info": {
   "codemirror_mode": {
    "name": "ipython",
    "version": 3
   },
   "file_extension": ".py",
   "mimetype": "text/x-python",
   "name": "python",
   "nbconvert_exporter": "python",
   "pygments_lexer": "ipython3",
   "version": "3.8.0"
  }
 },
 "nbformat": 4,
 "nbformat_minor": 5
}
